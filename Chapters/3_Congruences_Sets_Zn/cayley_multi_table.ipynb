{
 "cells": [
  {
   "cell_type": "code",
   "execution_count": 2,
   "id": "28818e04-0a6a-4602-8317-cea18aa27538",
   "metadata": {},
   "outputs": [
    {
     "data": {
      "text/html": [
       "<div class=\"notruncate\">\n",
       "<table  class=\"table_form\">\n",
       "<tbody>\n",
       "<tr class =\"row-a\">\n",
       "<td style=\"text-align:left\">*</td>\n",
       "<td style=\"text-align:left\">0</td>\n",
       "<td style=\"text-align:left\">1</td>\n",
       "<td style=\"text-align:left\">2</td>\n",
       "<td style=\"text-align:left\">3</td>\n",
       "<td style=\"text-align:left\">4</td>\n",
       "</tr>\n",
       "<tr class =\"row-b\">\n",
       "<td style=\"text-align:left\">\\(0\\)</td>\n",
       "<td style=\"text-align:left\">\\(0\\)</td>\n",
       "<td style=\"text-align:left\">\\(0\\)</td>\n",
       "<td style=\"text-align:left\">\\(0\\)</td>\n",
       "<td style=\"text-align:left\">\\(0\\)</td>\n",
       "<td style=\"text-align:left\">\\(0\\)</td>\n",
       "</tr>\n",
       "<tr class =\"row-a\">\n",
       "<td style=\"text-align:left\">\\(1\\)</td>\n",
       "<td style=\"text-align:left\">\\(0\\)</td>\n",
       "<td style=\"text-align:left\">\\(1\\)</td>\n",
       "<td style=\"text-align:left\">\\(2\\)</td>\n",
       "<td style=\"text-align:left\">\\(3\\)</td>\n",
       "<td style=\"text-align:left\">\\(4\\)</td>\n",
       "</tr>\n",
       "<tr class =\"row-b\">\n",
       "<td style=\"text-align:left\">\\(2\\)</td>\n",
       "<td style=\"text-align:left\">\\(0\\)</td>\n",
       "<td style=\"text-align:left\">\\(2\\)</td>\n",
       "<td style=\"text-align:left\">\\(4\\)</td>\n",
       "<td style=\"text-align:left\">\\(1\\)</td>\n",
       "<td style=\"text-align:left\">\\(3\\)</td>\n",
       "</tr>\n",
       "<tr class =\"row-a\">\n",
       "<td style=\"text-align:left\">\\(3\\)</td>\n",
       "<td style=\"text-align:left\">\\(0\\)</td>\n",
       "<td style=\"text-align:left\">\\(3\\)</td>\n",
       "<td style=\"text-align:left\">\\(1\\)</td>\n",
       "<td style=\"text-align:left\">\\(4\\)</td>\n",
       "<td style=\"text-align:left\">\\(2\\)</td>\n",
       "</tr>\n",
       "<tr class =\"row-b\">\n",
       "<td style=\"text-align:left\">\\(4\\)</td>\n",
       "<td style=\"text-align:left\">\\(0\\)</td>\n",
       "<td style=\"text-align:left\">\\(4\\)</td>\n",
       "<td style=\"text-align:left\">\\(3\\)</td>\n",
       "<td style=\"text-align:left\">\\(2\\)</td>\n",
       "<td style=\"text-align:left\">\\(1\\)</td>\n",
       "</tr>\n",
       "</tbody>\n",
       "</table>\n",
       "</div>"
      ],
      "text/plain": [
       "  *   0   1   2   3   4\n",
       "  0   0   0   0   0   0\n",
       "  1   0   1   2   3   4\n",
       "  2   0   2   4   1   3\n",
       "  3   0   3   1   4   2\n",
       "  4   0   4   3   2   1"
      ]
     },
     "execution_count": 2,
     "metadata": {},
     "output_type": "execute_result"
    }
   ],
   "source": [
    "# Tables Mod n\n",
    "# https://crypto.katestange.net/multiplication-tables-modulo-n/\n",
    "\n",
    "n = 5\n",
    "R = IntegerModRing(n)\n",
    "rows = [['*']+[str(r) for r in R]]+[[i]+[i*r for r in R] for i in R]\n",
    "table(rows)"
   ]
  },
  {
   "cell_type": "code",
   "execution_count": null,
   "id": "763a3b36-7e03-4c20-ab74-5adb2902b9df",
   "metadata": {},
   "outputs": [],
   "source": []
  }
 ],
 "metadata": {
  "kernelspec": {
   "display_name": "SageMath 9.7",
   "language": "sage",
   "name": "sagemath"
  },
  "language_info": {
   "codemirror_mode": {
    "name": "ipython",
    "version": 3
   },
   "file_extension": ".py",
   "mimetype": "text/x-python",
   "name": "python",
   "nbconvert_exporter": "python",
   "pygments_lexer": "ipython3",
   "version": "3.10.8"
  }
 },
 "nbformat": 4,
 "nbformat_minor": 5
}
