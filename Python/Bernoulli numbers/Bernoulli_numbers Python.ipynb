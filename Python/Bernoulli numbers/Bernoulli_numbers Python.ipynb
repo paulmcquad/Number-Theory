{
 "cells": [
  {
   "cell_type": "markdown",
   "id": "a5473a6b",
   "metadata": {},
   "source": [
    "# Bernoulli numbers\n",
    "https://rosettacode.org/wiki/Bernoulli_numbers\n",
    "\n",
    "Bernoulli numbers are used in some series expansions of several functions   (trigonometric, hyperbolic, gamma, etc.),   and are extremely important in number theory and analysis.\n",
    "\n",
    "Note that there are two definitions of Bernoulli numbers;   this task will be using the modern usage   (as per The National Institute of Standards and Technology convention).\n",
    "\n",
    "The nth Bernoulli number is expressed as Bn."
   ]
  },
  {
   "cell_type": "markdown",
   "id": "49e9dde2",
   "metadata": {},
   "source": [
    "*    show the Bernoulli numbers   B0   through   B60.\n",
    "*    suppress the output of values which are equal to zero.   (Other than   B1 , all   odd   Bernoulli numbers have a value of zero.)\n",
    "*          express the Bernoulli numbers as fractions  (most are improper fractions).\n",
    "*          the fractions should be reduced.\n",
    "*          index each number in some way so that it can be discerned which Bernoulli number is being displayed.\n",
    "*          align the solidi   (/)   if used  (extra credit)."
   ]
  },
  {
   "cell_type": "markdown",
   "id": "301ba7fd",
   "metadata": {},
   "source": [
    "An algorithm\n",
    "\n",
    "The Akiyama–Tanigawa algorithm for the \"second Bernoulli numbers\" as taken from wikipedia is as follows: "
   ]
  },
  {
   "cell_type": "raw",
   "id": "9bd8b454",
   "metadata": {},
   "source": [
    "for m from 0 by 1 to n do\n",
    "    A[m] ← 1/(m+1)\n",
    "    for j from m by -1 to 1 do\n",
    "      A[j-1] ← j×(A[j-1] - A[j])\n",
    "  return A[0] (which is Bn)"
   ]
  },
  {
   "cell_type": "code",
   "execution_count": 5,
   "id": "3a089c5f",
   "metadata": {},
   "outputs": [
    {
     "name": "stdout",
     "output_type": "stream",
     "text": [
      "B( 0) =                                            1/1\n",
      "B( 1) =                                            1/2\n",
      "B( 2) =                                            1/6\n",
      "B( 4) =                                           -1/30\n",
      "B( 6) =                                            1/42\n",
      "B( 8) =                                           -1/30\n",
      "B(10) =                                            5/66\n",
      "B(12) =                                         -691/2730\n",
      "B(14) =                                            7/6\n",
      "B(16) =                                        -3617/510\n",
      "B(18) =                                        43867/798\n",
      "B(20) =                                      -174611/330\n",
      "B(22) =                                       854513/138\n",
      "B(24) =                                   -236364091/2730\n",
      "B(26) =                                      8553103/6\n",
      "B(28) =                                 -23749461029/870\n",
      "B(30) =                                8615841276005/14322\n",
      "B(32) =                               -7709321041217/510\n",
      "B(34) =                                2577687858367/6\n",
      "B(36) =                        -26315271553053477373/1919190\n",
      "B(38) =                             2929993913841559/6\n",
      "B(40) =                       -261082718496449122051/13530\n",
      "B(42) =                       1520097643918070802691/1806\n",
      "B(44) =                     -27833269579301024235023/690\n",
      "B(46) =                     596451111593912163277961/282\n",
      "B(48) =                -5609403368997817686249127547/46410\n",
      "B(50) =                  495057205241079648212477525/66\n",
      "B(52) =              -801165718135489957347924991853/1590\n",
      "B(54) =             29149963634884862421418123812691/798\n",
      "B(56) =          -2479392929313226753685415739663229/870\n",
      "B(58) =          84483613348880041862046775994036021/354\n",
      "B(60) = -1215233140483755572040304994079820246041491/56786730\n"
     ]
    }
   ],
   "source": [
    "from fractions import Fraction as Fr\n",
    " \n",
    "def bernoulli(n):\n",
    "    A = [0] * (n+1)\n",
    "    for m in range(n+1):\n",
    "        A[m] = Fr(1, m+1)\n",
    "        for j in range(m, 0, -1):\n",
    "          A[j-1] = j*(A[j-1] - A[j])\n",
    "    return A[0] # (which is Bn)\n",
    " \n",
    "bn = [(i, bernoulli(i)) for i in range(61)]\n",
    "bn = [(i, b) for i,b in bn if b]\n",
    "width = max(len(str(b.numerator)) for i,b in bn)\n",
    "for i,b in bn:\n",
    "    print('B(%2i) = %*i/%i' % (i, width, b.numerator, b.denominator))"
   ]
  },
  {
   "cell_type": "code",
   "execution_count": 6,
   "id": "6d487e1c",
   "metadata": {},
   "outputs": [
    {
     "name": "stdout",
     "output_type": "stream",
     "text": [
      "B( 0) =                                            1/1\n",
      "B( 1) =                                            1/2\n",
      "B( 2) =                                            1/6\n",
      "B( 4) =                                           -1/30\n",
      "B( 6) =                                            1/42\n",
      "B( 8) =                                           -1/30\n",
      "B(10) =                                            5/66\n",
      "B(12) =                                         -691/2730\n",
      "B(14) =                                            7/6\n",
      "B(16) =                                        -3617/510\n",
      "B(18) =                                        43867/798\n",
      "B(20) =                                      -174611/330\n",
      "B(22) =                                       854513/138\n",
      "B(24) =                                   -236364091/2730\n",
      "B(26) =                                      8553103/6\n",
      "B(28) =                                 -23749461029/870\n",
      "B(30) =                                8615841276005/14322\n",
      "B(32) =                               -7709321041217/510\n",
      "B(34) =                                2577687858367/6\n",
      "B(36) =                        -26315271553053477373/1919190\n",
      "B(38) =                             2929993913841559/6\n",
      "B(40) =                       -261082718496449122051/13530\n",
      "B(42) =                       1520097643918070802691/1806\n",
      "B(44) =                     -27833269579301024235023/690\n",
      "B(46) =                     596451111593912163277961/282\n",
      "B(48) =                -5609403368997817686249127547/46410\n",
      "B(50) =                  495057205241079648212477525/66\n",
      "B(52) =              -801165718135489957347924991853/1590\n",
      "B(54) =             29149963634884862421418123812691/798\n",
      "B(56) =          -2479392929313226753685415739663229/870\n",
      "B(58) =          84483613348880041862046775994036021/354\n",
      "B(60) = -1215233140483755572040304994079820246041491/56786730\n"
     ]
    }
   ],
   "source": [
    "def bernoulli2():\n",
    "    A, m = [], 0\n",
    "    while True:\n",
    "        A.append(Fr(1, m+1))\n",
    "        for j in range(m, 0, -1):\n",
    "          A[j-1] = j*(A[j-1] - A[j])\n",
    "        yield A[0] # (which is Bm)\n",
    "        m += 1\n",
    " \n",
    "bn2 = [ix for ix in zip(range(61), bernoulli2())]\n",
    "bn2 = [(i, b) for i,b in bn2 if b]\n",
    "width = max(len(str(b.numerator)) for i,b in bn2)\n",
    "for i,b in bn2:\n",
    "    print('B(%2i) = %*i/%i' % (i, width, b.numerator, b.denominator))"
   ]
  },
  {
   "cell_type": "code",
   "execution_count": null,
   "id": "f9743197",
   "metadata": {},
   "outputs": [],
   "source": []
  }
 ],
 "metadata": {
  "kernelspec": {
   "display_name": "Python 3",
   "language": "python",
   "name": "python3"
  },
  "language_info": {
   "codemirror_mode": {
    "name": "ipython",
    "version": 3
   },
   "file_extension": ".py",
   "mimetype": "text/x-python",
   "name": "python",
   "nbconvert_exporter": "python",
   "pygments_lexer": "ipython3",
   "version": "3.10.5"
  },
  "latex_envs": {
   "LaTeX_envs_menu_present": true,
   "autoclose": false,
   "autocomplete": true,
   "bibliofile": "biblio.bib",
   "cite_by": "apalike",
   "current_citInitial": 1,
   "eqLabelWithNumbers": true,
   "eqNumInitial": 1,
   "hotkeys": {
    "equation": "Ctrl-E",
    "itemize": "Ctrl-I"
   },
   "labels_anchors": false,
   "latex_user_defs": false,
   "report_style_numbering": false,
   "user_envs_cfg": false
  },
  "nbTranslate": {
   "displayLangs": [
    "*"
   ],
   "hotkey": "alt-t",
   "langInMainMenu": true,
   "sourceLang": "en",
   "targetLang": "fr",
   "useGoogleTranslate": true
  },
  "toc": {
   "base_numbering": 1,
   "nav_menu": {},
   "number_sections": true,
   "sideBar": true,
   "skip_h1_title": false,
   "title_cell": "Table of Contents",
   "title_sidebar": "Contents",
   "toc_cell": false,
   "toc_position": {},
   "toc_section_display": true,
   "toc_window_display": false
  },
  "varInspector": {
   "cols": {
    "lenName": 16,
    "lenType": 16,
    "lenVar": 40
   },
   "kernels_config": {
    "python": {
     "delete_cmd_postfix": "",
     "delete_cmd_prefix": "del ",
     "library": "var_list.py",
     "varRefreshCmd": "print(var_dic_list())"
    },
    "r": {
     "delete_cmd_postfix": ") ",
     "delete_cmd_prefix": "rm(",
     "library": "var_list.r",
     "varRefreshCmd": "cat(var_dic_list()) "
    }
   },
   "types_to_exclude": [
    "module",
    "function",
    "builtin_function_or_method",
    "instance",
    "_Feature"
   ],
   "window_display": false
  }
 },
 "nbformat": 4,
 "nbformat_minor": 5
}
