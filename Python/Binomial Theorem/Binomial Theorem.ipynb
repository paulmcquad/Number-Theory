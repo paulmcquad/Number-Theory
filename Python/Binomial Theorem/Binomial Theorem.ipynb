{
 "cells": [
  {
   "cell_type": "markdown",
   "id": "f7e01dea",
   "metadata": {},
   "source": [
    "We use Binomial Theorem in the expansion of the equation similar to (a+b)^n. To expand the given equation, we use the formula given below:\n",
    "\n",
    "    n = power of the equation\n",
    "    a, b = terms with coefficients\n",
    "    r = takes on the successive values from 0 to n\n",
    "    C = combination and its formula is given as:"
   ]
  },
  {
   "cell_type": "markdown",
   "id": "6b402c96",
   "metadata": {},
   "source": [
    "![](Binomial-1.png)"
   ]
  },
  {
   "cell_type": "markdown",
   "id": "4cab2df2",
   "metadata": {},
   "source": [
    "![](Binomial-2.png)"
   ]
  },
  {
   "cell_type": "markdown",
   "id": "5d2bb7da",
   "metadata": {},
   "source": [
    "where,\n",
    "\n",
    "    n = Number of Elements\n",
    "    r = Number of Elements to be selected\n",
    "    n >= r"
   ]
  },
  {
   "cell_type": "markdown",
   "id": "41c78246",
   "metadata": {},
   "source": [
    "![](Binomial-3.png)"
   ]
  },
  {
   "cell_type": "markdown",
   "id": "2ef62d51",
   "metadata": {},
   "source": [
    "   * Declare a Function.\n",
    "   * Inside the function, take the coefficient of a and b and the power of the equation, n, as parameters.\n",
    "   * Calculate the first term by raising the coefficient of a to the power n. Subsequently, append it to the series list.\n",
    "   * Calculate the next term inside a for loop using the previous term. (Use the formula mentioned below).\n",
    "   * Format and Append the next term to the series list.\n",
    "   * Convert the list to a string and print it."
   ]
  },
  {
   "cell_type": "markdown",
   "id": "e0f21dd7",
   "metadata": {},
   "source": [
    "![](Binomial-4.png)"
   ]
  },
  {
   "cell_type": "code",
   "execution_count": null,
   "id": "5df9550a",
   "metadata": {},
   "outputs": [],
   "source": [
    "def form_series(co_a, co_b, n):\n",
    "    \"\"\"\n",
    "    This method creates the Binomial Theorem Series.\n",
    "\n",
    "    :param co_a: coefficient of a\n",
    "    :param co_b: coefficient of b\n",
    "    :param n: power of the equation\n",
    "    :return: None\n",
    "    \"\"\"\n",
    "    def formatting(next_term, coeffs):\n",
    "        \"\"\"\n",
    "        This is an inner function which formats the\n",
    "        terms of the binomial series.\n",
    "\n",
    "        :param next_term: coefficient of next term\n",
    "        :param coeffs: powers of a and b\n",
    "        :return: formatted term\n",
    "        \"\"\"\n",
    "        if next_term == 1:\n",
    "            coeffs.insert(0, \"\")\n",
    "        else:\n",
    "            coeffs.insert(0, next_term)\n",
    "\n",
    "        if coeffs[1] == \"^0\" and coeffs[2] == \"^0\":\n",
    "            return coeffs[0]\n",
    "        elif coeffs[1] == \"^0\":\n",
    "            return \"{}b{}\".format(coeffs[0], coeffs[2])\n",
    "        elif coeffs[2] == \"^0\":\n",
    "            return \"{}a{}\".format(coeffs[0], coeffs[1])\n",
    "        elif coeffs[1] == \"^1\" and coeffs[2] == \"^1\":\n",
    "            return \"{}ab\".format(coeffs[0])\n",
    "        elif coeffs[1] == \"^1\":\n",
    "            return \"{}ab{}\".format(coeffs[0], coeffs[2])\n",
    "        elif coeffs[2] == \"^1\":\n",
    "            return \"a{}b\".format(coeffs[0], coeffs[1])\n",
    "        return \"{}a{}b{}\".format(coeffs[0], coeffs[1], coeffs[2])\n",
    "\n",
    "    # Initializing a list named as `series`\n",
    "    series = list()\n",
    "\n",
    "    # Calculating the First Term, Formatting it\n",
    "    # and Appending it to our Series\n",
    "    first_term = pow(co_a, n)\n",
    "    coeffs = [\"^\" + str(n), \"^0\"]\n",
    "    series.append(formatting(first_term, coeffs) + \"  +  \")\n",
    "\n",
    "    next_term = first_term\n",
    "\n",
    "    # Calculating, Formatting and Appending\n",
    "    # the remaining terms.\n",
    "    for i in range(1, n + 1):\n",
    "        # We can find next term using the\n",
    "        # previous term and the formula\n",
    "        # mentioned below.\n",
    "        next_term = int(next_term * co_b * (n - i + 1) / (i * co_a))\n",
    "\n",
    "        # Pre-formatted list creation\n",
    "        coeffs = [\"\" if x == 1 else \"^\" + str(x) for x in [n - i, i]]\n",
    "\n",
    "        # Append till last term is not reached\n",
    "        if i != n:\n",
    "            series.append(formatting(next_term, coeffs) + \"  +  \")\n",
    "\n",
    "        # Append the last term.\n",
    "        else:\n",
    "            series.append(formatting(next_term, coeffs))\n",
    "\n",
    "    # Joining the series as a string and printing it.\n",
    "    print(\"\".join(series))\n",
    "\n",
    "\n",
    "if __name__ == \"__main__\":\n",
    "    # Taking inputs\n",
    "    print(\"( a + b ) ^ n\")\n",
    "    co_a = int(input(\"Enter the coefficient of a: \"))\n",
    "    co_b = int(input(\"Enter the coefficient of b: \"))\n",
    "    n = int(input(\"Enter n: \"))\n",
    "    print(\"({}a+{}b)^{}  =  \".format(co_a, co_b, n),end=\" \")\n",
    "\n",
    "    # Calling the Function\n",
    "    form_series(co_a, co_b, n)"
   ]
  },
  {
   "cell_type": "code",
   "execution_count": null,
   "id": "2b73ed35",
   "metadata": {},
   "outputs": [],
   "source": []
  }
 ],
 "metadata": {
  "kernelspec": {
   "display_name": "Python 3",
   "language": "python",
   "name": "python3"
  },
  "language_info": {
   "codemirror_mode": {
    "name": "ipython",
    "version": 3
   },
   "file_extension": ".py",
   "mimetype": "text/x-python",
   "name": "python",
   "nbconvert_exporter": "python",
   "pygments_lexer": "ipython3",
   "version": "3.10.5"
  },
  "latex_envs": {
   "LaTeX_envs_menu_present": true,
   "autoclose": false,
   "autocomplete": true,
   "bibliofile": "biblio.bib",
   "cite_by": "apalike",
   "current_citInitial": 1,
   "eqLabelWithNumbers": true,
   "eqNumInitial": 1,
   "hotkeys": {
    "equation": "Ctrl-E",
    "itemize": "Ctrl-I"
   },
   "labels_anchors": false,
   "latex_user_defs": false,
   "report_style_numbering": false,
   "user_envs_cfg": false
  },
  "nbTranslate": {
   "displayLangs": [
    "*"
   ],
   "hotkey": "alt-t",
   "langInMainMenu": true,
   "sourceLang": "en",
   "targetLang": "fr",
   "useGoogleTranslate": true
  },
  "toc": {
   "base_numbering": 1,
   "nav_menu": {},
   "number_sections": true,
   "sideBar": true,
   "skip_h1_title": false,
   "title_cell": "Table of Contents",
   "title_sidebar": "Contents",
   "toc_cell": false,
   "toc_position": {},
   "toc_section_display": true,
   "toc_window_display": false
  },
  "varInspector": {
   "cols": {
    "lenName": 16,
    "lenType": 16,
    "lenVar": 40
   },
   "kernels_config": {
    "python": {
     "delete_cmd_postfix": "",
     "delete_cmd_prefix": "del ",
     "library": "var_list.py",
     "varRefreshCmd": "print(var_dic_list())"
    },
    "r": {
     "delete_cmd_postfix": ") ",
     "delete_cmd_prefix": "rm(",
     "library": "var_list.r",
     "varRefreshCmd": "cat(var_dic_list()) "
    }
   },
   "types_to_exclude": [
    "module",
    "function",
    "builtin_function_or_method",
    "instance",
    "_Feature"
   ],
   "window_display": false
  }
 },
 "nbformat": 4,
 "nbformat_minor": 5
}
