{
 "cells": [
  {
   "cell_type": "code",
   "execution_count": 14,
   "id": "981e8507-f0bb-4750-935f-1db12029dfb4",
   "metadata": {},
   "outputs": [
    {
     "name": "stdout",
     "output_type": "stream",
     "text": [
      "Input: a, b ,n\n"
     ]
    },
    {
     "name": "stdin",
     "output_type": "stream",
     "text": [
      " 2\n",
      " 1\n",
      " 10\n"
     ]
    },
    {
     "ename": "TypeError",
     "evalue": "'str' object cannot be interpreted as an integer",
     "output_type": "error",
     "traceback": [
      "\u001b[0;31m---------------------------------------------------------------------------\u001b[0m",
      "\u001b[0;31mTypeError\u001b[0m                                 Traceback (most recent call last)",
      "Cell \u001b[0;32mIn [14], line 84\u001b[0m\n\u001b[1;32m     81\u001b[0m     n \u001b[38;5;241m=\u001b[39m \u001b[38;5;28minput\u001b[39m()\n\u001b[1;32m     83\u001b[0m \u001b[38;5;66;03m# 4n + 1\u001b[39;00m\n\u001b[0;32m---> 84\u001b[0m     \u001b[43mfindNumbers\u001b[49m\u001b[43m(\u001b[49m\u001b[43ma\u001b[49m\u001b[43m,\u001b[49m\u001b[43m \u001b[49m\u001b[43mb\u001b[49m\u001b[43m,\u001b[49m\u001b[43m \u001b[49m\u001b[43mn\u001b[49m\u001b[43m)\u001b[49m;\n\u001b[1;32m     86\u001b[0m \u001b[38;5;66;03m# This code is contributed by AnkitRai01\u001b[39;00m\n",
      "Cell \u001b[0;32mIn [14], line 24\u001b[0m, in \u001b[0;36mfindNumbers\u001b[0;34m(a, b, n)\u001b[0m\n\u001b[1;32m     19\u001b[0m possible \u001b[38;5;241m=\u001b[39m \u001b[38;5;28;01mTrue\u001b[39;00m;\n\u001b[1;32m     21\u001b[0m \u001b[38;5;66;03m# Checking whether given\u001b[39;00m\n\u001b[1;32m     22\u001b[0m \u001b[38;5;66;03m# numbers are co-prime\u001b[39;00m\n\u001b[1;32m     23\u001b[0m \u001b[38;5;66;03m# or not\u001b[39;00m\n\u001b[0;32m---> 24\u001b[0m \u001b[38;5;28;01mif\u001b[39;00m (\u001b[38;5;129;01mnot\u001b[39;00m \u001b[43mcoprime\u001b[49m\u001b[43m(\u001b[49m\u001b[43ma\u001b[49m\u001b[43m,\u001b[49m\u001b[43m \u001b[49m\u001b[43mb\u001b[49m\u001b[43m)\u001b[49m) :\n\u001b[1;32m     25\u001b[0m \tpossible \u001b[38;5;241m=\u001b[39m \u001b[38;5;28;01mFalse\u001b[39;00m;\n\u001b[1;32m     27\u001b[0m c1 \u001b[38;5;241m=\u001b[39m \u001b[38;5;241m1\u001b[39m;\n",
      "Cell \u001b[0;32mIn [14], line 10\u001b[0m, in \u001b[0;36mcoprime\u001b[0;34m(a, b)\u001b[0m\n\u001b[1;32m      8\u001b[0m \u001b[38;5;28;01mdef\u001b[39;00m \u001b[38;5;21mcoprime\u001b[39m(a, b) :\n\u001b[0;32m---> 10\u001b[0m \t\u001b[38;5;28;01mif\u001b[39;00m (\u001b[43mgcd\u001b[49m\u001b[43m(\u001b[49m\u001b[43ma\u001b[49m\u001b[43m,\u001b[49m\u001b[43m \u001b[49m\u001b[43mb\u001b[49m\u001b[43m)\u001b[49m \u001b[38;5;241m==\u001b[39m \u001b[38;5;241m1\u001b[39m) :\n\u001b[1;32m     11\u001b[0m \t\t\u001b[38;5;28;01mreturn\u001b[39;00m \u001b[38;5;28;01mTrue\u001b[39;00m;\n\u001b[1;32m     13\u001b[0m \t\u001b[38;5;28;01melse\u001b[39;00m :\n",
      "\u001b[0;31mTypeError\u001b[0m: 'str' object cannot be interpreted as an integer"
     ]
    }
   ],
   "source": [
    "# Python3 implementation of the above approach\n",
    "from math import gcd, sqrt\n",
    "from sympy import Q, ask\n",
    "\n",
    "# Utility function to check\n",
    "# whether two numbers is\n",
    "# co-prime or not\n",
    "def coprime(a, b) :\n",
    "\t\n",
    "\tif (gcd(a, b) == 1) :\n",
    "\t\treturn True;\n",
    "\t\t\n",
    "\telse :\n",
    "\t\treturn False;\n",
    "\n",
    "# finding the Prime numbers\n",
    "def findNumbers(a, b, n) :\n",
    "\n",
    "\tpossible = True;\n",
    "\n",
    "\t# Checking whether given\n",
    "\t# numbers are co-prime\n",
    "\t# or not\n",
    "\tif (not coprime(a, b)) :\n",
    "\t\tpossible = False;\n",
    "\n",
    "\tc1 = 1;\n",
    "\tc2 = 1;\n",
    "\n",
    "\tnum1 = 0;\n",
    "\tnum2 = 0;\n",
    "\n",
    "\t# To store the N primes\n",
    "\tst = set();\n",
    "\t\n",
    "\t# If 'possible' is true\n",
    "\tif (possible) :\n",
    "\n",
    "\t\t# Printing n numbers\n",
    "\t\t# of prime\n",
    "\t\twhile (len(st) != n) :\n",
    "\n",
    "\t\t\t# checking the form of a+nb\n",
    "\t\t\tnum1 = a + (c1 * b);\n",
    "\t\t\t\n",
    "\t\t\tif (Q.prime(num1)):\n",
    "\t\t\t\t\n",
    "\t\t\t\tst.add(num1);\n",
    "\t\t\t\t\n",
    "\t\t\tc1 += 1;\n",
    "\n",
    "\t\t\t# Checking the form of b+na\n",
    "\t\t\tnum2 = b + (c2 * a);\n",
    "\t\t\t\n",
    "\t\t\tif (Q.prime(num2)):\n",
    "\t\t\t\tst.add(num2);\n",
    "\t\n",
    "\t\t\tc2 += 1;\n",
    "\n",
    "\t\tfor i in st :\n",
    "\t\t\tprint(i, end = \" \");\n",
    "\n",
    "\t# If 'possible' is false\n",
    "\t# return -1\n",
    "\telse :\n",
    "\t\tprint(\"-1\");\n",
    "\n",
    "# Driver Code\n",
    "if __name__ == \"__main__\" :\n",
    "\n",
    "\ta = 2;\n",
    "\tb = 1;\n",
    "\tn = 10;\n",
    "\n",
    "# 2n + 1\n",
    "\tfindNumbers(a, b, n);\n",
    "\n",
    "#   print('Input: a, b ,n');\n",
    "#   a = input()\n",
    "#   b = input()\n",
    "#   n = input()\n",
    "\n",
    "# 4n + 1\n",
    "#    findNumbers(a, b, n);\n",
    "    \n",
    "# This code is contributed by AnkitRai01"
   ]
  },
  {
   "cell_type": "code",
   "execution_count": null,
   "id": "3e3b230c-cfa7-48f5-88a8-106f9f508c7e",
   "metadata": {},
   "outputs": [],
   "source": []
  }
 ],
 "metadata": {
  "kernelspec": {
   "display_name": "Python 3",
   "language": "python",
   "name": "python3"
  },
  "language_info": {
   "codemirror_mode": {
    "name": "ipython",
    "version": 3
   },
   "file_extension": ".py",
   "mimetype": "text/x-python",
   "name": "python",
   "nbconvert_exporter": "python",
   "pygments_lexer": "ipython3",
   "version": "3.10.8"
  }
 },
 "nbformat": 4,
 "nbformat_minor": 5
}
