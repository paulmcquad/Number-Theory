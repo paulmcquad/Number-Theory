{
 "cells": [
  {
   "cell_type": "code",
   "execution_count": null,
   "id": "0cae837f",
   "metadata": {},
   "outputs": [],
   "source": [
    "# Python program to find\n",
    "# modular inverse of a\n",
    "# under modulo m using\n",
    "# Fermat's little theorem.\n",
    "# This program works\n",
    "# only if m is prime.\n",
    "\n",
    "import math\n",
    "\n",
    "# Function to find modular\n",
    "# inverse of a under modulo m\n",
    "# Assumption: m is prime\n",
    "\n",
    "\n",
    "def modInverse(a, m):\n",
    "\n",
    "\tif (math.gcd(a, m) != 1):\n",
    "\t\tprint(\"Inverse doesn't exist\")\n",
    "\n",
    "\telse:\n",
    "\n",
    "\t\t# If a and m are relatively prime, then\n",
    "\t\t# modulo inverse is a^(m-2) mode m\n",
    "\t\tprint(\"Modular multiplicative inverse is \",\n",
    "\t\t\tpow(a, m -2, m))\n",
    "\n",
    "\n",
    "a = int(input(\"(any integer a) a: \"))\n",
    "m = int(input(\"(m is prime) m: \"))\n",
    "\n",
    "modInverse(a, m)\n",
    "\n",
    "# This code is contributed\n",
    "# by Anant Agarwal.\n"
   ]
  },
  {
   "cell_type": "code",
   "execution_count": null,
   "id": "2355c396",
   "metadata": {},
   "outputs": [],
   "source": []
  }
 ],
 "metadata": {
  "kernelspec": {
   "display_name": "Python 3",
   "language": "python",
   "name": "python3"
  },
  "language_info": {
   "codemirror_mode": {
    "name": "ipython",
    "version": 3
   },
   "file_extension": ".py",
   "mimetype": "text/x-python",
   "name": "python",
   "nbconvert_exporter": "python",
   "pygments_lexer": "ipython3",
   "version": "3.10.5"
  },
  "latex_envs": {
   "LaTeX_envs_menu_present": true,
   "autoclose": false,
   "autocomplete": true,
   "bibliofile": "biblio.bib",
   "cite_by": "apalike",
   "current_citInitial": 1,
   "eqLabelWithNumbers": true,
   "eqNumInitial": 1,
   "hotkeys": {
    "equation": "Ctrl-E",
    "itemize": "Ctrl-I"
   },
   "labels_anchors": false,
   "latex_user_defs": false,
   "report_style_numbering": false,
   "user_envs_cfg": false
  },
  "nbTranslate": {
   "displayLangs": [
    "*"
   ],
   "hotkey": "alt-t",
   "langInMainMenu": true,
   "sourceLang": "en",
   "targetLang": "fr",
   "useGoogleTranslate": true
  },
  "toc": {
   "base_numbering": 1,
   "nav_menu": {},
   "number_sections": true,
   "sideBar": true,
   "skip_h1_title": false,
   "title_cell": "Table of Contents",
   "title_sidebar": "Contents",
   "toc_cell": false,
   "toc_position": {},
   "toc_section_display": true,
   "toc_window_display": false
  },
  "varInspector": {
   "cols": {
    "lenName": 16,
    "lenType": 16,
    "lenVar": 40
   },
   "kernels_config": {
    "python": {
     "delete_cmd_postfix": "",
     "delete_cmd_prefix": "del ",
     "library": "var_list.py",
     "varRefreshCmd": "print(var_dic_list())"
    },
    "r": {
     "delete_cmd_postfix": ") ",
     "delete_cmd_prefix": "rm(",
     "library": "var_list.r",
     "varRefreshCmd": "cat(var_dic_list()) "
    }
   },
   "types_to_exclude": [
    "module",
    "function",
    "builtin_function_or_method",
    "instance",
    "_Feature"
   ],
   "window_display": false
  }
 },
 "nbformat": 4,
 "nbformat_minor": 5
}
