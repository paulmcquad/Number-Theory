{
 "cells": [
  {
   "cell_type": "markdown",
   "id": "5ffdf289",
   "metadata": {},
   "source": [
    "# Fermat's little theorem\n",
    "https://en.wikipedia.org/wiki/Fermat%27s_little_theorem\n",
    "\n",
    "Fermat's little theorem states that if p is a prime number, then for any integer a, the number ap − a is an integer multiple of p. In the notation of modular arithmetic, this is expressed as "
   ]
  },
  {
   "cell_type": "markdown",
   "id": "855fb59c",
   "metadata": {},
   "source": [
    "![](fermat_little1.svg)"
   ]
  },
  {
   "cell_type": "markdown",
   "id": "bbdc5686",
   "metadata": {},
   "source": [
    "For example, if a = 2 and p = 7, then 27 = 128, and 128 − 2 = 126 = 7 × 18 is an integer multiple of 7. "
   ]
  },
  {
   "cell_type": "code",
   "execution_count": 5,
   "id": "0cae837f",
   "metadata": {},
   "outputs": [
    {
     "name": "stdout",
     "output_type": "stream",
     "text": [
      "(any integer a) a: 2\n",
      "(m is prime) m: 7\n",
      "Modular multiplicative inverse is  4\n"
     ]
    }
   ],
   "source": [
    "# Python program to find modular inverse of a under modulo m using - Fermat's little theorem.\n",
    "# This program works only if m is prime.\n",
    "\n",
    "import math\n",
    "\n",
    "# Function to find modular\n",
    "# inverse of a under modulo m\n",
    "# Assumption: m is prime\n",
    "\n",
    "\n",
    "def modInverse(a, m):\n",
    "\n",
    "\tif (math.gcd(a, m) != 1):\n",
    "\t\tprint(\"Inverse doesn't exist\")\n",
    "\n",
    "\telse:\n",
    "\n",
    "\t\t# If a and m are relatively prime, then\n",
    "\t\t# modulo inverse is a^(m-2) mode m\n",
    "\t\tprint(\"Modular multiplicative inverse is \",\n",
    "\t\t\tpow(a, m -2, m))\n",
    "\n",
    "\n",
    "a = int(input(\"(any integer a) a: \"))\n",
    "m = int(input(\"(m is prime) m: \"))\n",
    "\n",
    "modInverse(a, m)\n",
    "\n",
    "# This code is contributed\n",
    "# by Anant Agarwal.\n"
   ]
  },
  {
   "cell_type": "code",
   "execution_count": 21,
   "id": "36522789",
   "metadata": {},
   "outputs": [
    {
     "name": "stdout",
     "output_type": "stream",
     "text": [
      "(any integer a) a: 6\n",
      "(m is prime) m: 2\n"
     ]
    },
    {
     "data": {
      "text/plain": [
       "0.0"
      ]
     },
     "execution_count": 21,
     "metadata": {},
     "output_type": "execute_result"
    }
   ],
   "source": [
    "import math\n",
    "a = int(input(\"(any integer a) a: \"))\n",
    "b = int(input(\"(m is prime) m: \"))\n",
    "math.fmod(a, b)"
   ]
  },
  {
   "cell_type": "code",
   "execution_count": null,
   "id": "9ef879b3",
   "metadata": {},
   "outputs": [],
   "source": []
  }
 ],
 "metadata": {
  "kernelspec": {
   "display_name": "Python 3",
   "language": "python",
   "name": "python3"
  },
  "language_info": {
   "codemirror_mode": {
    "name": "ipython",
    "version": 3
   },
   "file_extension": ".py",
   "mimetype": "text/x-python",
   "name": "python",
   "nbconvert_exporter": "python",
   "pygments_lexer": "ipython3",
   "version": "3.10.5"
  },
  "latex_envs": {
   "LaTeX_envs_menu_present": true,
   "autoclose": false,
   "autocomplete": true,
   "bibliofile": "biblio.bib",
   "cite_by": "apalike",
   "current_citInitial": 1,
   "eqLabelWithNumbers": true,
   "eqNumInitial": 1,
   "hotkeys": {
    "equation": "Ctrl-E",
    "itemize": "Ctrl-I"
   },
   "labels_anchors": false,
   "latex_user_defs": false,
   "report_style_numbering": false,
   "user_envs_cfg": false
  },
  "nbTranslate": {
   "displayLangs": [
    "*"
   ],
   "hotkey": "alt-t",
   "langInMainMenu": true,
   "sourceLang": "en",
   "targetLang": "fr",
   "useGoogleTranslate": true
  },
  "toc": {
   "base_numbering": 1,
   "nav_menu": {},
   "number_sections": true,
   "sideBar": true,
   "skip_h1_title": false,
   "title_cell": "Table of Contents",
   "title_sidebar": "Contents",
   "toc_cell": false,
   "toc_position": {},
   "toc_section_display": true,
   "toc_window_display": false
  },
  "varInspector": {
   "cols": {
    "lenName": 16,
    "lenType": 16,
    "lenVar": 40
   },
   "kernels_config": {
    "python": {
     "delete_cmd_postfix": "",
     "delete_cmd_prefix": "del ",
     "library": "var_list.py",
     "varRefreshCmd": "print(var_dic_list())"
    },
    "r": {
     "delete_cmd_postfix": ") ",
     "delete_cmd_prefix": "rm(",
     "library": "var_list.r",
     "varRefreshCmd": "cat(var_dic_list()) "
    }
   },
   "types_to_exclude": [
    "module",
    "function",
    "builtin_function_or_method",
    "instance",
    "_Feature"
   ],
   "window_display": false
  }
 },
 "nbformat": 4,
 "nbformat_minor": 5
}
