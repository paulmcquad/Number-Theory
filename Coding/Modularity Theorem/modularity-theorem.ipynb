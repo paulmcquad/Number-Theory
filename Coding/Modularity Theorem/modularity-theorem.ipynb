{
 "cells": [
  {
   "cell_type": "code",
   "execution_count": 2,
   "id": "2a72adcc-2d2a-4dc8-a9a8-fff77e9c1384",
   "metadata": {},
   "outputs": [
    {
     "data": {
      "text/plain": [
       "1.00000000000000"
      ]
     },
     "execution_count": 2,
     "metadata": {},
     "output_type": "execute_result"
    }
   ],
   "source": [
    "E = EllipticCurve('389a1')\n",
    "\n",
    "L = E.lseries()\n",
    "\n",
    "L\n",
    "#Complex L-series of the Elliptic Curve defined by\n",
    "#       y^2 + y = x^3 + x^2 - 2*x over Rational Field\n",
    "\n",
    "L(1) #random due to numerical noise\n",
    "-1.04124792770327e-19\n",
    "\n",
    "L(1+I)\n",
    "-0.638409938588039 + 0.715495239204667*I\n",
    "\n",
    "L(100)"
   ]
  },
  {
   "cell_type": "code",
   "execution_count": 11,
   "id": "d5358a4f-36bf-4ec2-9a8a-c564104e6d94",
   "metadata": {},
   "outputs": [
    {
     "data": {
      "text/plain": [
       "0.999999940392997"
      ]
     },
     "execution_count": 11,
     "metadata": {},
     "output_type": "execute_result"
    }
   ],
   "source": [
    "E = EllipticCurve('389a1')\n",
    "\n",
    "L = E.lseries()\n",
    "\n",
    "L(25)\n",
    "#Complex L-series of the Elliptic Curve defined by\n",
    "#       y^2 + y = x^3 + x^2 - 2*x over Rational Field"
   ]
  },
  {
   "cell_type": "code",
   "execution_count": null,
   "id": "83eb5f56-3312-4776-9f4a-2e78d45ad7f3",
   "metadata": {},
   "outputs": [],
   "source": []
  }
 ],
 "metadata": {
  "kernelspec": {
   "display_name": "SageMath 9.7",
   "language": "sage",
   "name": "sagemath"
  },
  "language_info": {
   "codemirror_mode": {
    "name": "ipython",
    "version": 3
   },
   "file_extension": ".py",
   "mimetype": "text/x-python",
   "name": "python",
   "nbconvert_exporter": "python",
   "pygments_lexer": "ipython3",
   "version": "3.10.8"
  }
 },
 "nbformat": 4,
 "nbformat_minor": 5
}
