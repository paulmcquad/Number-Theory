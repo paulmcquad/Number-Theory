{
 "cells": [
  {
   "cell_type": "code",
   "execution_count": 3,
   "id": "196d4ca9",
   "metadata": {},
   "outputs": [
    {
     "name": "stdout",
     "output_type": "stream",
     "text": [
      "Value of n = 4\n",
      "Value of nth bernoulli number : -1/30\n"
     ]
    }
   ],
   "source": [
    "# import sympy\n",
    "from sympy import *\n",
    "n = 4\n",
    "print(\"Value of n = {}\".format(n))\n",
    "\n",
    "# Use sympy.bernoulli() method\n",
    "nth_bernoulli = bernoulli(n)\n",
    "\t\n",
    "print(\"Value of nth bernoulli number : {}\".format(nth_bernoulli))\n"
   ]
  },
  {
   "cell_type": "code",
   "execution_count": 4,
   "id": "122a7b72",
   "metadata": {},
   "outputs": [
    {
     "name": "stdout",
     "output_type": "stream",
     "text": [
      "Value of n = 5 and k = x\n",
      "The nth bernoulli polynomial : x**5 - 5*x**4/2 + 5*x**3/3 - x/6\n"
     ]
    }
   ],
   "source": [
    "# import sympy\n",
    "from sympy import *\n",
    "n = 5\n",
    "k = symbols('x')\n",
    "print(\"Value of n = {} and k = {}\".format(n, k))\n",
    "\n",
    "# Use sympy.bernoulli() method\n",
    "nth_bernoulli_poly = bernoulli(n, k)\n",
    "\t\n",
    "print(\"The nth bernoulli polynomial : {}\".format(nth_bernoulli_poly))\n"
   ]
  },
  {
   "cell_type": "code",
   "execution_count": null,
   "id": "ec7f64b1",
   "metadata": {},
   "outputs": [],
   "source": []
  }
 ],
 "metadata": {
  "kernelspec": {
   "display_name": "Python 3",
   "language": "python",
   "name": "python3"
  },
  "language_info": {
   "codemirror_mode": {
    "name": "ipython",
    "version": 3
   },
   "file_extension": ".py",
   "mimetype": "text/x-python",
   "name": "python",
   "nbconvert_exporter": "python",
   "pygments_lexer": "ipython3",
   "version": "3.10.5"
  },
  "latex_envs": {
   "LaTeX_envs_menu_present": true,
   "autoclose": false,
   "autocomplete": true,
   "bibliofile": "biblio.bib",
   "cite_by": "apalike",
   "current_citInitial": 1,
   "eqLabelWithNumbers": true,
   "eqNumInitial": 1,
   "hotkeys": {
    "equation": "Ctrl-E",
    "itemize": "Ctrl-I"
   },
   "labels_anchors": false,
   "latex_user_defs": false,
   "report_style_numbering": false,
   "user_envs_cfg": false
  },
  "nbTranslate": {
   "displayLangs": [
    "*"
   ],
   "hotkey": "alt-t",
   "langInMainMenu": true,
   "sourceLang": "en",
   "targetLang": "fr",
   "useGoogleTranslate": true
  },
  "toc": {
   "base_numbering": 1,
   "nav_menu": {},
   "number_sections": true,
   "sideBar": true,
   "skip_h1_title": false,
   "title_cell": "Table of Contents",
   "title_sidebar": "Contents",
   "toc_cell": false,
   "toc_position": {},
   "toc_section_display": true,
   "toc_window_display": false
  },
  "varInspector": {
   "cols": {
    "lenName": 16,
    "lenType": 16,
    "lenVar": 40
   },
   "kernels_config": {
    "python": {
     "delete_cmd_postfix": "",
     "delete_cmd_prefix": "del ",
     "library": "var_list.py",
     "varRefreshCmd": "print(var_dic_list())"
    },
    "r": {
     "delete_cmd_postfix": ") ",
     "delete_cmd_prefix": "rm(",
     "library": "var_list.r",
     "varRefreshCmd": "cat(var_dic_list()) "
    }
   },
   "types_to_exclude": [
    "module",
    "function",
    "builtin_function_or_method",
    "instance",
    "_Feature"
   ],
   "window_display": false
  }
 },
 "nbformat": 4,
 "nbformat_minor": 5
}
