{
 "cells": [
  {
   "cell_type": "markdown",
   "id": "5a84a461",
   "metadata": {},
   "source": [
    "# Summation - Partial sums\n",
    "https://en.wikipedia.org/wiki/Summation"
   ]
  },
  {
   "cell_type": "code",
   "execution_count": 2,
   "id": "1b8ee230",
   "metadata": {},
   "outputs": [
    {
     "name": "stdout",
     "output_type": "stream",
     "text": [
      "2.3833333333333333\n"
     ]
    }
   ],
   "source": [
    "# 5∑i3 i/i+1 Function\n",
    "def Num2Function(start_number, end_number):\n",
    "    multi = 0\n",
    "    for num in range(start_number, end_number + 1):\n",
    "        multi += num/(num +1)\n",
    "    return multi\n",
    "\n",
    "\n",
    "print(Num2Function(3,5))"
   ]
  },
  {
   "cell_type": "code",
   "execution_count": 15,
   "id": "1691a86f",
   "metadata": {},
   "outputs": [
    {
     "name": "stdout",
     "output_type": "stream",
     "text": [
      "1.3611111111111112\n"
     ]
    }
   ],
   "source": [
    "# 3∑i1 1/num**2 Function\n",
    "def Num3Function(start_number, end_number):\n",
    "    multi = 0\n",
    "    for num in range(start_number, end_number + 1):\n",
    "        multi += 1/(num**2)\n",
    "    return multi\n",
    "\n",
    "\n",
    "print(Num3Function(1,3))"
   ]
  },
  {
   "cell_type": "code",
   "execution_count": null,
   "id": "2b3dc0f7",
   "metadata": {},
   "outputs": [],
   "source": []
  }
 ],
 "metadata": {
  "kernelspec": {
   "display_name": "Python 3",
   "language": "python",
   "name": "python3"
  },
  "language_info": {
   "codemirror_mode": {
    "name": "ipython",
    "version": 3
   },
   "file_extension": ".py",
   "mimetype": "text/x-python",
   "name": "python",
   "nbconvert_exporter": "python",
   "pygments_lexer": "ipython3",
   "version": "3.10.5"
  },
  "latex_envs": {
   "LaTeX_envs_menu_present": true,
   "autoclose": false,
   "autocomplete": true,
   "bibliofile": "biblio.bib",
   "cite_by": "apalike",
   "current_citInitial": 1,
   "eqLabelWithNumbers": true,
   "eqNumInitial": 1,
   "hotkeys": {
    "equation": "Ctrl-E",
    "itemize": "Ctrl-I"
   },
   "labels_anchors": false,
   "latex_user_defs": false,
   "report_style_numbering": false,
   "user_envs_cfg": false
  },
  "nbTranslate": {
   "displayLangs": [
    "*"
   ],
   "hotkey": "alt-t",
   "langInMainMenu": true,
   "sourceLang": "en",
   "targetLang": "fr",
   "useGoogleTranslate": true
  },
  "toc": {
   "base_numbering": 1,
   "nav_menu": {},
   "number_sections": true,
   "sideBar": true,
   "skip_h1_title": false,
   "title_cell": "Table of Contents",
   "title_sidebar": "Contents",
   "toc_cell": false,
   "toc_position": {},
   "toc_section_display": true,
   "toc_window_display": false
  },
  "varInspector": {
   "cols": {
    "lenName": 16,
    "lenType": 16,
    "lenVar": 40
   },
   "kernels_config": {
    "python": {
     "delete_cmd_postfix": "",
     "delete_cmd_prefix": "del ",
     "library": "var_list.py",
     "varRefreshCmd": "print(var_dic_list())"
    },
    "r": {
     "delete_cmd_postfix": ") ",
     "delete_cmd_prefix": "rm(",
     "library": "var_list.r",
     "varRefreshCmd": "cat(var_dic_list()) "
    }
   },
   "types_to_exclude": [
    "module",
    "function",
    "builtin_function_or_method",
    "instance",
    "_Feature"
   ],
   "window_display": false
  }
 },
 "nbformat": 4,
 "nbformat_minor": 5
}
