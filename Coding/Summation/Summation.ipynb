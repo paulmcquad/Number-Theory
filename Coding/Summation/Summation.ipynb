{
 "cells": [
  {
   "cell_type": "markdown",
   "id": "f76f8668",
   "metadata": {},
   "source": [
    "![](Summation-1.png)"
   ]
  },
  {
   "cell_type": "code",
   "execution_count": 48,
   "id": "a47eee07",
   "metadata": {},
   "outputs": [
    {
     "name": "stdout",
     "output_type": "stream",
     "text": [
      "start: 1\n",
      "nth: 100\n",
      "5050\n"
     ]
    }
   ],
   "source": [
    "# Summation - straight line\n",
    "\n",
    "start = int(input(\"start: \"))\n",
    "nth = int(input(\"nth: \"))\n",
    "\n",
    "total = sum(range(start, nth + 1))\n",
    "print(total)  # 👉️ 5050"
   ]
  },
  {
   "cell_type": "code",
   "execution_count": 47,
   "id": "8d95b2eb",
   "metadata": {},
   "outputs": [
    {
     "name": "stdout",
     "output_type": "stream",
     "text": [
      "86\n"
     ]
    }
   ],
   "source": [
    "def sum_of_squares_for_loop(start_number, end_number): # n∑i=1(i**2) =(n*(n+1)*(2n+1)) / 6\n",
    "    sum_of_squares = 0\n",
    "    for num in range(start_number, end_number + 1):\n",
    "        sum_of_squares += num ** 2\n",
    "    return sum_of_squares\n",
    "\n",
    "\n",
    "print(sum_of_squares_for_loop(3,6))\n",
    "# Returns: 86"
   ]
  },
  {
   "cell_type": "code",
   "execution_count": 51,
   "id": "64c1d79e",
   "metadata": {},
   "outputs": [
    {
     "name": "stdout",
     "output_type": "stream",
     "text": [
      "784\n"
     ]
    }
   ],
   "source": [
    "def sum_of_cubes_for_loop(start_number, end_number):\n",
    "    sum_of_cubes = 0\n",
    "    for num in range(start_number, end_number + 1):\n",
    "        sum_of_cubes += num ** 3\n",
    "    return sum_of_cubes\n",
    "\n",
    "\n",
    "print(sum_of_cubes_for_loop(1,7))\n",
    "# Returns: 86"
   ]
  },
  {
   "cell_type": "code",
   "execution_count": 58,
   "id": "f99dc87f",
   "metadata": {},
   "outputs": [
    {
     "name": "stdout",
     "output_type": "stream",
     "text": [
      "784\n"
     ]
    }
   ],
   "source": [
    "# Multi-dimensional Function\n",
    "def Multidimensional(start_number, end_number, exp):\n",
    "    multi = 0\n",
    "    for num in range(start_number, end_number + 1):\n",
    "        multi += num ** exp\n",
    "    return multi\n",
    "\n",
    "\n",
    "print(Multidimensional(1,7,3))\n",
    "# Returns: 86"
   ]
  },
  {
   "cell_type": "code",
   "execution_count": null,
   "id": "223e2b3a",
   "metadata": {},
   "outputs": [],
   "source": []
  }
 ],
 "metadata": {
  "kernelspec": {
   "display_name": "Python 3",
   "language": "python",
   "name": "python3"
  },
  "language_info": {
   "codemirror_mode": {
    "name": "ipython",
    "version": 3
   },
   "file_extension": ".py",
   "mimetype": "text/x-python",
   "name": "python",
   "nbconvert_exporter": "python",
   "pygments_lexer": "ipython3",
   "version": "3.10.5"
  },
  "latex_envs": {
   "LaTeX_envs_menu_present": true,
   "autoclose": false,
   "autocomplete": true,
   "bibliofile": "biblio.bib",
   "cite_by": "apalike",
   "current_citInitial": 1,
   "eqLabelWithNumbers": true,
   "eqNumInitial": 1,
   "hotkeys": {
    "equation": "Ctrl-E",
    "itemize": "Ctrl-I"
   },
   "labels_anchors": false,
   "latex_user_defs": false,
   "report_style_numbering": false,
   "user_envs_cfg": false
  },
  "nbTranslate": {
   "displayLangs": [
    "*"
   ],
   "hotkey": "alt-t",
   "langInMainMenu": true,
   "sourceLang": "en",
   "targetLang": "fr",
   "useGoogleTranslate": true
  },
  "toc": {
   "base_numbering": 1,
   "nav_menu": {},
   "number_sections": true,
   "sideBar": true,
   "skip_h1_title": false,
   "title_cell": "Table of Contents",
   "title_sidebar": "Contents",
   "toc_cell": false,
   "toc_position": {},
   "toc_section_display": true,
   "toc_window_display": false
  },
  "varInspector": {
   "cols": {
    "lenName": 16,
    "lenType": 16,
    "lenVar": 40
   },
   "kernels_config": {
    "python": {
     "delete_cmd_postfix": "",
     "delete_cmd_prefix": "del ",
     "library": "var_list.py",
     "varRefreshCmd": "print(var_dic_list())"
    },
    "r": {
     "delete_cmd_postfix": ") ",
     "delete_cmd_prefix": "rm(",
     "library": "var_list.r",
     "varRefreshCmd": "cat(var_dic_list()) "
    }
   },
   "types_to_exclude": [
    "module",
    "function",
    "builtin_function_or_method",
    "instance",
    "_Feature"
   ],
   "window_display": false
  }
 },
 "nbformat": 4,
 "nbformat_minor": 5
}
