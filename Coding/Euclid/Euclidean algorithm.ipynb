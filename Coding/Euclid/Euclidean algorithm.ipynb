{
 "cells": [
  {
   "cell_type": "markdown",
   "id": "387b0e07",
   "metadata": {},
   "source": [
    "# Euclidean algorithm\n",
    "https://en.wikipedia.org/wiki/Euclidean_algorithm"
   ]
  },
  {
   "cell_type": "markdown",
   "id": "1092a380",
   "metadata": {},
   "source": [
    "The Euclidean algorithm calculates the greatest common divisor (GCD) of two natural numbers a and b. The greatest common divisor g is the largest natural number that divides both a and b without leaving a remainder."
   ]
  },
  {
   "cell_type": "code",
   "execution_count": 13,
   "id": "747edd27",
   "metadata": {},
   "outputs": [
    {
     "name": "stdout",
     "output_type": "stream",
     "text": [
      "m: 252\n",
      "n: 105\n",
      "21\n"
     ]
    }
   ],
   "source": [
    "def gcd(m,n):\n",
    "    if m< n:\n",
    "        (m,n) = (n,m)\n",
    "    while (m % n != 0):\n",
    "        (m, n) = (n, m % n)\n",
    "    return n\n",
    "\n",
    "# calling function with parameters and printing it out\n",
    "#print(gcd(8,12)) # 4\n",
    "\n",
    "m = int(input(\"m: \"))\n",
    "n = int(input(\"n: \"))\n",
    "print(gcd(m,n))"
   ]
  },
  {
   "cell_type": "markdown",
   "id": "c21c3140",
   "metadata": {},
   "source": [
    "# Extended Euclidean algorithm\n",
    "https://en.wikipedia.org/wiki/Extended_Euclidean_algorithm\n",
    "\n",
    "In arithmetic and computer programming, the extended Euclidean algorithm is an extension to the Euclidean algorithm, and computes, in addition to the greatest common divisor (gcd) of integers a and b, also the coefficients of Bézout's identity, which are integers x and y such that\n",
    "\n",
    "ax+by=gcd(a,b)"
   ]
  },
  {
   "cell_type": "code",
   "execution_count": 14,
   "id": "9d06ed65",
   "metadata": {},
   "outputs": [
    {
     "name": "stdout",
     "output_type": "stream",
     "text": [
      "gcd( 252 , 105 ) =  21\n"
     ]
    }
   ],
   "source": [
    "# Python program to demonstrate working of extended\n",
    "# Euclidean Algorithm\n",
    "\t\n",
    "# function for extended Euclidean Algorithm\n",
    "def gcdExtended(a, b):\n",
    "\t# Base Case\n",
    "\tif a == 0 :\n",
    "\t\treturn b,0,1\n",
    "\t\t\t\n",
    "\tgcd,x1,y1 = gcdExtended(b%a, a)\n",
    "\t\n",
    "\t# Update x and y using results of recursive\n",
    "\t# call\n",
    "\tx = y1 - (b//a) * x1\n",
    "\ty = x1\n",
    "\t\n",
    "\treturn gcd,x,y\n",
    "\t\n",
    "\n",
    "# Driver code\n",
    "a, b = 252,105\n",
    "g, x, y = gcdExtended(a, b)\n",
    "print(\"gcd(\", a , \",\" , b, \") = \", g)"
   ]
  },
  {
   "cell_type": "markdown",
   "id": "7313346c",
   "metadata": {},
   "source": [
    "# Binary GCD algorithm - Stein's Algorithm\n",
    "\n",
    "https://en.wikipedia.org/wiki/Binary_GCD_algorithm\n",
    "\n",
    "The binary GCD algorithm, also known as Stein's algorithm or the binary Euclidean algorithm, is an algorithm that computes the greatest common divisor of two nonnegative integers. Stein's algorithm uses simpler arithmetic operations than the conventional Euclidean algorithm; it replaces division with arithmetic shifts, comparisons, and subtraction."
   ]
  },
  {
   "cell_type": "code",
   "execution_count": 16,
   "id": "bbde3c57",
   "metadata": {},
   "outputs": [
    {
     "name": "stdout",
     "output_type": "stream",
     "text": [
      "Gcd of given numbers is  21\n"
     ]
    }
   ],
   "source": [
    "# Recursive Python 3 program to\n",
    "# implement Stein's Algorithm\n",
    "\n",
    "# Function to implement\n",
    "# Stein's Algorithm\n",
    "\n",
    "\n",
    "def gcd(a, b):\n",
    "\n",
    "\tif (a == b):\n",
    "\t\treturn a\n",
    "\n",
    "\t# GCD(0, b) == b; GCD(a, 0) == a,\n",
    "\t# GCD(0, 0) == 0\n",
    "\tif (a == 0):\n",
    "\t\treturn b\n",
    "\n",
    "\tif (b == 0):\n",
    "\t\treturn a\n",
    "\n",
    "\t# look for factors of 2\n",
    "\t# a is even\n",
    "\tif ((~a & 1) == 1):\n",
    "\n",
    "\t\t# b is odd\n",
    "\t\tif ((b & 1) == 1):\n",
    "\t\t\treturn gcd(a >> 1, b)\n",
    "\t\telse:\n",
    "\t\t\t# both a and b are even\n",
    "\t\t\treturn (gcd(a >> 1, b >> 1) << 1)\n",
    "\n",
    "\t# a is odd, b is even\n",
    "\tif ((~b & 1) == 1):\n",
    "\t\treturn gcd(a, b >> 1)\n",
    "\n",
    "\t# reduce larger number\n",
    "\tif (a > b):\n",
    "\t\treturn gcd((a - b) >> 1, b)\n",
    "\n",
    "\treturn gcd((b - a) >> 1, a)\n",
    "\n",
    "\n",
    "# Driver code\n",
    "a, b = 252,105\n",
    "print(\"Gcd of given numbers is \",\n",
    "\tgcd(a, b))\n",
    "\n",
    "# This code is contributed\n",
    "# by Nikita Tiwari.\n"
   ]
  },
  {
   "cell_type": "markdown",
   "id": "0f634bb4",
   "metadata": {},
   "source": [
    "# Lehmer's GCD algorithm\n",
    "https://en.wikipedia.org/wiki/Lehmer%27s_GCD_algorithm\n",
    "\n",
    "Lehmer's GCD algorithm, named after Derrick Henry Lehmer, is a fast GCD algorithm, an improvement on the simpler but slower Euclidean algorithm. It is mainly used for big integers that have a representation as a string of digits relative to some chosen numeral system base, say β = 1000 or β = 232. "
   ]
  },
  {
   "cell_type": "code",
   "execution_count": 31,
   "id": "244f9b97",
   "metadata": {},
   "outputs": [
    {
     "name": "stdout",
     "output_type": "stream",
     "text": [
      "Gcd of given numbers is  21\n"
     ]
    }
   ],
   "source": [
    "# Lehmer's gcd algorithm;  revised version\n",
    "\n",
    "DIGIT_BITS = 30\n",
    "BASE = 1 << DIGIT_BITS\n",
    "\n",
    "def nbits(n, correction = {\n",
    "        '0': 4, '1': 3, '2': 2, '3': 2,\n",
    "        '4': 1, '5': 1, '6': 1, '7': 1,\n",
    "        '8': 0, '9': 0, 'a': 0, 'b': 0,\n",
    "        'c': 0, 'd': 0, 'e': 0, 'f': 0}):\n",
    "    \"\"\"Number of bits in binary representation of the positive integer n,\n",
    "    or 0 if n == 0.\n",
    "    \"\"\"\n",
    "    if n < 0:\n",
    "        raise ValueError(\"The argument to _nbits should be nonnegative.\")\n",
    "    hex_n = \"%x\" % n\n",
    "    return 4*len(hex_n) - correction[hex_n[0]]\n",
    "\n",
    "def lehmer_gcd(a, b):\n",
    "    \"\"\"Greatest common divisor of nonnegative integers a and b.\"\"\"\n",
    "\n",
    "    # initial reductions\n",
    "    if a < b:\n",
    "        a, b = b, a\n",
    "\n",
    "    while b >= BASE:\n",
    "        size = nbits(a) - DIGIT_BITS\n",
    "        x, y = int(a >> size), int(b >> size)\n",
    "        # single-precision arithmetic from here...\n",
    "        A, B, C, D = 1, 0, 0, 1\n",
    "        while True:\n",
    "            if y+C == 0 or y+D == 0:\n",
    "                break\n",
    "            q = (x+A)//(y+C)\n",
    "            if q != (x+B)//(y+D):\n",
    "                break\n",
    "            A, B, x, C, D, y = C, D, y, A-q*C, B-q*D, x-q*y\n",
    "        # ...until here\n",
    "\n",
    "        if B:\n",
    "            a, b = A*a + B*b, C*a + D*b\n",
    "        else:\n",
    "            a, b = b, a % b\n",
    "\n",
    "    a, b = int(b), int(a%b)\n",
    "    # final single-precision gcd computation\n",
    "    while b:\n",
    "        a, b = b, a%b\n",
    "    return a\n",
    "\n",
    "# Driver code\n",
    "a, b = 252,105\n",
    "print(\"Gcd of given numbers is \",\n",
    "\tlehmer_gcd(a, b))\n"
   ]
  },
  {
   "cell_type": "code",
   "execution_count": 1,
   "id": "311a8431",
   "metadata": {},
   "outputs": [
    {
     "name": "stdout",
     "output_type": "stream",
     "text": [
      "21\n"
     ]
    }
   ],
   "source": [
    "import math\n",
    "print(math.gcd(252,105))"
   ]
  },
  {
   "cell_type": "code",
   "execution_count": null,
   "id": "d5af9f54",
   "metadata": {},
   "outputs": [],
   "source": []
  }
 ],
 "metadata": {
  "kernelspec": {
   "display_name": "Python 3",
   "language": "python",
   "name": "python3"
  },
  "language_info": {
   "codemirror_mode": {
    "name": "ipython",
    "version": 3
   },
   "file_extension": ".py",
   "mimetype": "text/x-python",
   "name": "python",
   "nbconvert_exporter": "python",
   "pygments_lexer": "ipython3",
   "version": "3.10.5"
  },
  "latex_envs": {
   "LaTeX_envs_menu_present": true,
   "autoclose": false,
   "autocomplete": true,
   "bibliofile": "biblio.bib",
   "cite_by": "apalike",
   "current_citInitial": 1,
   "eqLabelWithNumbers": true,
   "eqNumInitial": 1,
   "hotkeys": {
    "equation": "Ctrl-E",
    "itemize": "Ctrl-I"
   },
   "labels_anchors": false,
   "latex_user_defs": false,
   "report_style_numbering": false,
   "user_envs_cfg": false
  },
  "nbTranslate": {
   "displayLangs": [
    "*"
   ],
   "hotkey": "alt-t",
   "langInMainMenu": true,
   "sourceLang": "en",
   "targetLang": "fr",
   "useGoogleTranslate": true
  },
  "toc": {
   "base_numbering": 1,
   "nav_menu": {},
   "number_sections": true,
   "sideBar": true,
   "skip_h1_title": false,
   "title_cell": "Table of Contents",
   "title_sidebar": "Contents",
   "toc_cell": false,
   "toc_position": {},
   "toc_section_display": true,
   "toc_window_display": false
  },
  "varInspector": {
   "cols": {
    "lenName": 16,
    "lenType": 16,
    "lenVar": 40
   },
   "kernels_config": {
    "python": {
     "delete_cmd_postfix": "",
     "delete_cmd_prefix": "del ",
     "library": "var_list.py",
     "varRefreshCmd": "print(var_dic_list())"
    },
    "r": {
     "delete_cmd_postfix": ") ",
     "delete_cmd_prefix": "rm(",
     "library": "var_list.r",
     "varRefreshCmd": "cat(var_dic_list()) "
    }
   },
   "types_to_exclude": [
    "module",
    "function",
    "builtin_function_or_method",
    "instance",
    "_Feature"
   ],
   "window_display": false
  }
 },
 "nbformat": 4,
 "nbformat_minor": 5
}
